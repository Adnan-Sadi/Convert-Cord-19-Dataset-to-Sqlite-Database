{
 "cells": [
  {
   "cell_type": "code",
   "execution_count": 1,
   "id": "335f72ae",
   "metadata": {},
   "outputs": [],
   "source": [
    "import sqlite3\n",
    "import pandas as pd\n",
    "import os\n",
    "from natsort import natsorted\n",
    "from tqdm import tqdm"
   ]
  },
  {
   "cell_type": "code",
   "execution_count": 2,
   "id": "f07a9aa3",
   "metadata": {},
   "outputs": [],
   "source": [
    "conn = sqlite3.connect('D:\\\\Datasets\\\\Cord-19\\\\Database\\\\Cord_19.db')\n",
    "cursor = conn.cursor()"
   ]
  },
  {
   "cell_type": "markdown",
   "id": "11755837",
   "metadata": {},
   "source": [
    "## Papers Tables"
   ]
  },
  {
   "cell_type": "code",
   "execution_count": 3,
   "id": "3f0bd724",
   "metadata": {},
   "outputs": [
    {
     "name": "stdout",
     "output_type": "stream",
     "text": [
      "\n"
     ]
    }
   ],
   "source": [
    "create_papers_table = '''\n",
    "CREATE TABLE IF NOT EXISTS Papers (\n",
    "    paper_id TEXT PRIMARY KEY NOT NULL,\n",
    "    title TEXT\n",
    ");\n",
    "'''\n",
    "\n",
    "cursor.execute(create_papers_table)\n",
    "\n",
    "print(\"Table Created Successfully!\")"
   ]
  },
  {
   "cell_type": "code",
   "execution_count": 7,
   "id": "88490834",
   "metadata": {},
   "outputs": [
    {
     "data": {
      "text/plain": [
       "['papers_df.csv', 'papers_pmc_df.csv']"
      ]
     },
     "execution_count": 7,
     "metadata": {},
     "output_type": "execute_result"
    }
   ],
   "source": [
    "source = 'D:\\\\Datasets\\\\Cord-19\\\\DataFrames\\\\papers'\n",
    "dataframes = os.listdir(source)\n",
    "dataframes = natsorted(dataframes)\n",
    "dataframes"
   ]
  },
  {
   "cell_type": "code",
   "execution_count": 8,
   "id": "f11c8aa4",
   "metadata": {},
   "outputs": [],
   "source": [
    "for df_name in dataframes:\n",
    "    df = pd.read_csv(os.path.join(source, df_name))\n",
    "    \n",
    "    df.to_sql('Papers', conn, if_exists='append', index=False)"
   ]
  },
  {
   "cell_type": "code",
   "execution_count": 9,
   "id": "e4cfdfe8",
   "metadata": {},
   "outputs": [],
   "source": [
    "conn.commit()\n",
    "conn.close()"
   ]
  },
  {
   "cell_type": "markdown",
   "id": "5ed2c1b8",
   "metadata": {},
   "source": [
    "## Authors and Affiliations Tables"
   ]
  },
  {
   "cell_type": "code",
   "execution_count": 3,
   "id": "8960c490",
   "metadata": {},
   "outputs": [],
   "source": [
    "conn = sqlite3.connect('D:\\\\Datasets\\\\Cord-19\\\\Database\\\\Cord_19.db')\n",
    "cursor = conn.cursor()"
   ]
  },
  {
   "cell_type": "markdown",
   "id": "350e06f0",
   "metadata": {},
   "source": [
    "### Affiliations Table"
   ]
  },
  {
   "cell_type": "code",
   "execution_count": 3,
   "id": "a8a0772d",
   "metadata": {},
   "outputs": [
    {
     "name": "stdout",
     "output_type": "stream",
     "text": [
      "Table Created Successfully!\n"
     ]
    }
   ],
   "source": [
    "create_aff_table = '''\n",
    "CREATE TABLE IF NOT EXISTS Affiliations (\n",
    "    affiliation_id TEXT PRIMARY KEY NOT NULL,\n",
    "    laboratory TEXT,\n",
    "    institution TEXT,\n",
    "    settlement TEXT,\n",
    "    country TEXT,\n",
    "    region TEXT,\n",
    "    addrLine TEXT,\n",
    "    postCode TEXT,\n",
    "    postBox TEXT\n",
    ");\n",
    "'''\n",
    "\n",
    "cursor.execute(create_aff_table)\n",
    "\n",
    "print(\"Table Created Successfully!\")"
   ]
  },
  {
   "cell_type": "code",
   "execution_count": 5,
   "id": "3418e2af",
   "metadata": {},
   "outputs": [],
   "source": [
    "source = 'D:\\\\Datasets\\\\Cord-19\\\\DataFrames\\\\authors and affiliations'\n",
    "filename = 'affiliations_df_final.csv'\n",
    "df = pd.read_csv(os.path.join(source, filename))\n",
    "\n",
    "df.rename(columns = {'affiliation.laboratory':'laboratory', 'affiliation.institution':'institution',\n",
    "                     'affiliation.location.settlement':'settlement', 'affiliation.location.country': 'country',\n",
    "                     'affiliation.location.region': 'region', 'affiliation.location.addrLine': 'addrLine', \n",
    "                     'affiliation.location.postCode': 'postCode', 'affiliation.location.postBox': 'postBox'}, inplace = True)"
   ]
  },
  {
   "cell_type": "code",
   "execution_count": 7,
   "id": "9d105f27",
   "metadata": {},
   "outputs": [
    {
     "name": "stdout",
     "output_type": "stream",
     "text": [
      "Success!\n"
     ]
    }
   ],
   "source": [
    "df.to_sql('Affiliations', conn, if_exists='append', index=False)\n",
    "\n",
    "print('Success!')"
   ]
  },
  {
   "cell_type": "code",
   "execution_count": 8,
   "id": "01c843b9",
   "metadata": {},
   "outputs": [],
   "source": [
    "conn.commit()\n",
    "conn.close()"
   ]
  },
  {
   "cell_type": "markdown",
   "id": "1c50f8f6",
   "metadata": {},
   "source": [
    "### Authors Table"
   ]
  },
  {
   "cell_type": "code",
   "execution_count": 5,
   "id": "e4632f54",
   "metadata": {},
   "outputs": [
    {
     "name": "stdout",
     "output_type": "stream",
     "text": [
      "Table Created Successfully!\n"
     ]
    }
   ],
   "source": [
    "create_authors_table = '''\n",
    "CREATE TABLE IF NOT EXISTS Authors (\n",
    "    auth_id INTEGER PRIMARY KEY AUTOINCREMENT,\n",
    "    first TEXT,\n",
    "    middle TEXT,\n",
    "    last TEXT,\n",
    "    suffix TEXT,\n",
    "    email TEXT,\n",
    "    affiliation_id TEXT,\n",
    "    paper_id TEXT,\n",
    "    FOREIGN KEY (paper_id) REFERENCES Papers(paper_id),\n",
    "    FOREIGN KEY (affiliation_id) REFERENCES Affiliations(affiliation_id)\n",
    ");\n",
    "'''\n",
    "\n",
    "cursor.execute(create_authors_table)\n",
    "\n",
    "print(\"Table Created Successfully!\")"
   ]
  },
  {
   "cell_type": "code",
   "execution_count": 3,
   "id": "0276b5d6",
   "metadata": {},
   "outputs": [
    {
     "name": "stdout",
     "output_type": "stream",
     "text": [
      "Success!\n"
     ]
    }
   ],
   "source": [
    "source = 'D:\\\\Datasets\\\\Cord-19\\\\DataFrames\\\\authors and affiliations'\n",
    "filename_1 = 'authors_df_final.csv'\n",
    "filename_2 = 'authors_df_pmc_full.csv'\n",
    "\n",
    "df1 = pd.read_csv(os.path.join(source, filename_1))\n",
    "df2 = pd.read_csv(os.path.join(source, filename_2))\n",
    "\n",
    "df1.to_sql('Authors', conn, if_exists='append', index=False)\n",
    "df2.to_sql('Authors', conn, if_exists='append', index=False)\n",
    "\n",
    "print('Success!')"
   ]
  },
  {
   "cell_type": "code",
   "execution_count": 4,
   "id": "7780428c",
   "metadata": {},
   "outputs": [],
   "source": [
    "conn.commit()\n",
    "conn.close()"
   ]
  },
  {
   "cell_type": "markdown",
   "id": "4185eb46",
   "metadata": {},
   "source": [
    "## Abstracts Table"
   ]
  },
  {
   "cell_type": "code",
   "execution_count": 4,
   "id": "1cf7c3e1",
   "metadata": {},
   "outputs": [
    {
     "name": "stdout",
     "output_type": "stream",
     "text": [
      "Table Created Successfully!\n"
     ]
    }
   ],
   "source": [
    "create_abstracts_table = '''\n",
    "CREATE TABLE IF NOT EXISTS Abstracts (\n",
    "    paper_id TEXT,\n",
    "    text TEXT,\n",
    "    cite_spans TEXT,\n",
    "    ref_spans TEXT,\n",
    "    FOREIGN KEY (paper_id) REFERENCES Papers(paper_id)\n",
    ");\n",
    "'''\n",
    "\n",
    "cursor.execute(create_abstracts_table)\n",
    "\n",
    "print(\"Table Created Successfully!\")"
   ]
  },
  {
   "cell_type": "code",
   "execution_count": 2,
   "id": "382e527a",
   "metadata": {},
   "outputs": [],
   "source": [
    "source = 'D:\\\\Datasets\\\\Cord-19\\\\DataFrames\\\\abstracts'\n",
    "\n",
    "filename_1 = 'abstracts_df_final.csv'\n",
    "filename_2 = 'abstracts_pmc_df_final.csv'\n",
    "\n",
    "df1 = pd.read_csv(os.path.join(source, filename_1))\n",
    "df2 = pd.read_csv(os.path.join(source, filename_2))"
   ]
  },
  {
   "cell_type": "code",
   "execution_count": 5,
   "id": "be6a629d",
   "metadata": {},
   "outputs": [],
   "source": [
    "df1.drop(['section'], axis=1, inplace = True)\n",
    "df2.drop(['section'], axis=1, inplace = True)\n",
    "df2.drop(['Unnamed: 0'],axis=1, inplace=True)"
   ]
  },
  {
   "cell_type": "code",
   "execution_count": 15,
   "id": "f9bf6958",
   "metadata": {},
   "outputs": [
    {
     "data": {
      "text/html": [
       "<div>\n",
       "<style scoped>\n",
       "    .dataframe tbody tr th:only-of-type {\n",
       "        vertical-align: middle;\n",
       "    }\n",
       "\n",
       "    .dataframe tbody tr th {\n",
       "        vertical-align: top;\n",
       "    }\n",
       "\n",
       "    .dataframe thead th {\n",
       "        text-align: right;\n",
       "    }\n",
       "</style>\n",
       "<table border=\"1\" class=\"dataframe\">\n",
       "  <thead>\n",
       "    <tr style=\"text-align: right;\">\n",
       "      <th></th>\n",
       "      <th>paper_id</th>\n",
       "      <th>text</th>\n",
       "    </tr>\n",
       "  </thead>\n",
       "  <tbody>\n",
       "    <tr>\n",
       "      <th>0</th>\n",
       "      <td>PMC1054884</td>\n",
       "      <td>Viral recombination can dramatically impact ev...</td>\n",
       "    </tr>\n",
       "    <tr>\n",
       "      <th>1</th>\n",
       "      <td>PMC1065028</td>\n",
       "      <td>Patients want, need and expect that their rela...</td>\n",
       "    </tr>\n",
       "    <tr>\n",
       "      <th>2</th>\n",
       "      <td>PMC1065064</td>\n",
       "      <td>INTRODUCTION: Critical care physicians may ben...</td>\n",
       "    </tr>\n",
       "    <tr>\n",
       "      <th>3</th>\n",
       "      <td>PMC1065120</td>\n",
       "      <td>This commentary represents a selective survey ...</td>\n",
       "    </tr>\n",
       "    <tr>\n",
       "      <th>4</th>\n",
       "      <td>PMC1065257</td>\n",
       "      <td>The ribosomal frameshifting signal of the mous...</td>\n",
       "    </tr>\n",
       "    <tr>\n",
       "      <th>...</th>\n",
       "      <td>...</td>\n",
       "      <td>...</td>\n",
       "    </tr>\n",
       "    <tr>\n",
       "      <th>315737</th>\n",
       "      <td>PMC9150798</td>\n",
       "      <td>The COVID-19 pandemic is still a major global ...</td>\n",
       "    </tr>\n",
       "    <tr>\n",
       "      <th>315738</th>\n",
       "      <td>PMC9150821</td>\n",
       "      <td>The most effective treatment for HIV-1, antire...</td>\n",
       "    </tr>\n",
       "    <tr>\n",
       "      <th>315739</th>\n",
       "      <td>PMC9150825</td>\n",
       "      <td>PURPOSE: The purpose of this study was to expl...</td>\n",
       "    </tr>\n",
       "    <tr>\n",
       "      <th>315740</th>\n",
       "      <td>PMC9150849</td>\n",
       "      <td>OBJECTIVE: This study introduced self-concept ...</td>\n",
       "    </tr>\n",
       "    <tr>\n",
       "      <th>315741</th>\n",
       "      <td>PMC9150889</td>\n",
       "      <td>Successful engagement with the world requires ...</td>\n",
       "    </tr>\n",
       "  </tbody>\n",
       "</table>\n",
       "<p>315742 rows × 2 columns</p>\n",
       "</div>"
      ],
      "text/plain": [
       "          paper_id                                               text\n",
       "0       PMC1054884  Viral recombination can dramatically impact ev...\n",
       "1       PMC1065028  Patients want, need and expect that their rela...\n",
       "2       PMC1065064  INTRODUCTION: Critical care physicians may ben...\n",
       "3       PMC1065120  This commentary represents a selective survey ...\n",
       "4       PMC1065257  The ribosomal frameshifting signal of the mous...\n",
       "...            ...                                                ...\n",
       "315737  PMC9150798  The COVID-19 pandemic is still a major global ...\n",
       "315738  PMC9150821  The most effective treatment for HIV-1, antire...\n",
       "315739  PMC9150825  PURPOSE: The purpose of this study was to expl...\n",
       "315740  PMC9150849  OBJECTIVE: This study introduced self-concept ...\n",
       "315741  PMC9150889  Successful engagement with the world requires ...\n",
       "\n",
       "[315742 rows x 2 columns]"
      ]
     },
     "execution_count": 15,
     "metadata": {},
     "output_type": "execute_result"
    }
   ],
   "source": [
    "df2"
   ]
  },
  {
   "cell_type": "code",
   "execution_count": 16,
   "id": "57d86e60",
   "metadata": {},
   "outputs": [
    {
     "name": "stdout",
     "output_type": "stream",
     "text": [
      "Success!\n"
     ]
    }
   ],
   "source": [
    "df1.to_sql('Abstracts', conn, if_exists='append', index=False)\n",
    "df2.to_sql('Abstracts', conn, if_exists='append', index=False)\n",
    "\n",
    "print('Success!')"
   ]
  },
  {
   "cell_type": "code",
   "execution_count": 21,
   "id": "fb6cc4f8",
   "metadata": {},
   "outputs": [],
   "source": [
    "conn.commit()\n",
    "conn.close()"
   ]
  },
  {
   "cell_type": "markdown",
   "id": "9fbc542e",
   "metadata": {},
   "source": [
    "## Body Text Table"
   ]
  },
  {
   "cell_type": "code",
   "execution_count": 17,
   "id": "b658d8a1",
   "metadata": {},
   "outputs": [
    {
     "name": "stdout",
     "output_type": "stream",
     "text": [
      "Table Created Successfully!\n"
     ]
    }
   ],
   "source": [
    "create_btext_table = '''\n",
    "CREATE TABLE IF NOT EXISTS Body_Text (\n",
    "    text_id TEXT PRIMARY KEY NOT NULL,\n",
    "    paper_id TEXT,\n",
    "    text TEXT,\n",
    "    section TEXT,\n",
    "    FOREIGN KEY (paper_id) REFERENCES Papers(paper_id)\n",
    ");\n",
    "'''\n",
    "\n",
    "cursor.execute(create_btext_table)\n",
    "\n",
    "print(\"Table Created Successfully!\")"
   ]
  },
  {
   "cell_type": "code",
   "execution_count": 3,
   "id": "e92da9a6",
   "metadata": {},
   "outputs": [
    {
     "data": {
      "text/plain": [
       "['body_text_df_0.csv',\n",
       " 'body_text_df_1.csv',\n",
       " 'body_text_df_2.csv',\n",
       " 'body_text_df_3.csv',\n",
       " 'body_text_df_4.csv',\n",
       " 'body_text_df_5.csv',\n",
       " 'body_text_df_6.csv',\n",
       " 'body_text_df_7.csv',\n",
       " 'body_text_df_8.csv',\n",
       " 'body_text_df_9.csv',\n",
       " 'body_text_df_10.csv',\n",
       " 'body_text_df_11.csv',\n",
       " 'body_text_df_12.csv',\n",
       " 'body_text_df_13.csv',\n",
       " 'body_text_df_pmc_0.csv',\n",
       " 'body_text_df_pmc_1.csv',\n",
       " 'body_text_df_pmc_2.csv',\n",
       " 'body_text_df_pmc_3.csv',\n",
       " 'body_text_df_pmc_4.csv',\n",
       " 'body_text_df_pmc_5.csv',\n",
       " 'body_text_df_pmc_6.csv',\n",
       " 'body_text_df_pmc_7.csv',\n",
       " 'body_text_df_pmc_8.csv',\n",
       " 'body_text_df_pmc_9.csv',\n",
       " 'body_text_df_pmc_10.csv']"
      ]
     },
     "execution_count": 3,
     "metadata": {},
     "output_type": "execute_result"
    }
   ],
   "source": [
    "source = 'D:\\\\Datasets\\\\Cord-19\\\\DataFrames\\\\body_texts'\n",
    "dataframes = os.listdir(source)\n",
    "dataframes = natsorted(dataframes)\n",
    "dataframes"
   ]
  },
  {
   "cell_type": "code",
   "execution_count": 4,
   "id": "e772f1e2",
   "metadata": {},
   "outputs": [
    {
     "name": "stderr",
     "output_type": "stream",
     "text": [
      "100%|██████████████████████████████████████████████████████████████████████████████████| 25/25 [08:30<00:00, 20.43s/it]\n"
     ]
    }
   ],
   "source": [
    "for df_name in tqdm(dataframes):\n",
    "    df = pd.read_csv(os.path.join(source, df_name))\n",
    "    df.drop(['cite_spans', 'ref_spans'], axis=1, inplace=True)\n",
    "    \n",
    "    df.to_sql('Body_Text', conn, if_exists='append', index=False)"
   ]
  },
  {
   "cell_type": "code",
   "execution_count": 5,
   "id": "3512488f",
   "metadata": {},
   "outputs": [],
   "source": [
    "conn.commit()\n",
    "conn.close()"
   ]
  },
  {
   "cell_type": "markdown",
   "id": "9a8e9433",
   "metadata": {},
   "source": [
    "## Cite Spans Table"
   ]
  },
  {
   "cell_type": "code",
   "execution_count": 3,
   "id": "6a3eba86",
   "metadata": {},
   "outputs": [
    {
     "name": "stdout",
     "output_type": "stream",
     "text": [
      "Table Created Successfully!\n"
     ]
    }
   ],
   "source": [
    "create_cspans_table = '''\n",
    "CREATE TABLE IF NOT EXISTS Cite_Spans (\n",
    "    text_id TEXT,\n",
    "    start TEXT,\n",
    "    end TEXT,\n",
    "    text TEXT,\n",
    "    mention TEXT,\n",
    "    ref_id TEXT,\n",
    "    FOREIGN KEY (text_id) REFERENCES Body_Text(text_id)\n",
    ");\n",
    "'''\n",
    "\n",
    "cursor.execute(create_cspans_table)\n",
    "\n",
    "print(\"Table Created Successfully!\")"
   ]
  },
  {
   "cell_type": "code",
   "execution_count": 4,
   "id": "ea8a90f5",
   "metadata": {
    "collapsed": true
   },
   "outputs": [
    {
     "data": {
      "text/plain": [
       "['btext_cite_spans_df_0.csv',\n",
       " 'btext_cite_spans_df_1.csv',\n",
       " 'btext_cite_spans_df_2.csv',\n",
       " 'btext_cite_spans_df_3.csv',\n",
       " 'btext_cite_spans_df_4.csv',\n",
       " 'btext_cite_spans_df_5.csv',\n",
       " 'btext_cite_spans_df_6.csv',\n",
       " 'btext_cite_spans_df_7.csv',\n",
       " 'btext_cite_spans_df_8.csv',\n",
       " 'btext_cite_spans_df_9.csv',\n",
       " 'btext_cite_spans_df_10.csv',\n",
       " 'btext_cite_spans_df_11.csv',\n",
       " 'btext_cite_spans_df_12.csv',\n",
       " 'btext_cite_spans_df_13.csv',\n",
       " 'btext_cite_spans_df_14.csv',\n",
       " 'btext_cite_spans_df_15.csv',\n",
       " 'btext_cite_spans_df_16.csv',\n",
       " 'btext_cite_spans_df_17.csv',\n",
       " 'btext_cite_spans_df_18.csv',\n",
       " 'btext_cite_spans_df_19.csv',\n",
       " 'btext_cite_spans_df_20.csv',\n",
       " 'btext_cite_spans_df_21.csv',\n",
       " 'btext_cite_spans_df_22.csv',\n",
       " 'btext_cite_spans_df_23.csv',\n",
       " 'btext_cite_spans_df_24.csv']"
      ]
     },
     "execution_count": 4,
     "metadata": {},
     "output_type": "execute_result"
    }
   ],
   "source": [
    "source = 'D:\\\\Datasets\\\\Cord-19\\\\DataFrames\\\\cite_spans'\n",
    "dataframes = os.listdir(source)\n",
    "dataframes = natsorted(dataframes)\n",
    "dataframes"
   ]
  },
  {
   "cell_type": "code",
   "execution_count": 5,
   "id": "6a00b1ee",
   "metadata": {},
   "outputs": [
    {
     "name": "stderr",
     "output_type": "stream",
     "text": [
      "100%|██████████████████████████████████████████████████████████████████████████████████| 25/25 [01:59<00:00,  4.76s/it]\n"
     ]
    }
   ],
   "source": [
    "for df_name in tqdm(dataframes):\n",
    "    df = pd.read_csv(os.path.join(source, df_name))\n",
    "    df.to_sql('Cite_Spans', conn, if_exists='append', index=False)"
   ]
  },
  {
   "cell_type": "code",
   "execution_count": null,
   "id": "32381bc1",
   "metadata": {},
   "outputs": [],
   "source": [
    "conn.commit()\n",
    "conn.close()"
   ]
  },
  {
   "cell_type": "markdown",
   "id": "211d56e1",
   "metadata": {},
   "source": [
    "## Ref Spans Table"
   ]
  },
  {
   "cell_type": "code",
   "execution_count": 3,
   "id": "3eeda898",
   "metadata": {},
   "outputs": [
    {
     "name": "stdout",
     "output_type": "stream",
     "text": [
      "Table Created Successfully!\n"
     ]
    }
   ],
   "source": [
    "create_rspans_table = '''\n",
    "CREATE TABLE IF NOT EXISTS Ref_Spans (\n",
    "    text_id TEXT,\n",
    "    start TEXT,\n",
    "    end TEXT,\n",
    "    text TEXT,\n",
    "    mention TEXT,\n",
    "    ref_id TEXT,\n",
    "    FOREIGN KEY (text_id) REFERENCES Body_Text(text_id)\n",
    ");\n",
    "'''\n",
    "\n",
    "cursor.execute(create_rspans_table)\n",
    "\n",
    "print(\"Table Created Successfully!\")"
   ]
  },
  {
   "cell_type": "code",
   "execution_count": 4,
   "id": "ee287103",
   "metadata": {},
   "outputs": [
    {
     "data": {
      "text/plain": [
       "['btext_ref_spans_df_0.csv',\n",
       " 'btext_ref_spans_df_1.csv',\n",
       " 'btext_ref_spans_df_2.csv',\n",
       " 'btext_ref_spans_df_3.csv',\n",
       " 'btext_ref_spans_df_4.csv',\n",
       " 'btext_ref_spans_df_5.csv',\n",
       " 'btext_ref_spans_df_6.csv',\n",
       " 'btext_ref_spans_df_7.csv',\n",
       " 'btext_ref_spans_df_8.csv',\n",
       " 'btext_ref_spans_df_9.csv',\n",
       " 'btext_ref_spans_df_10.csv',\n",
       " 'btext_ref_spans_df_11.csv',\n",
       " 'btext_ref_spans_df_12.csv',\n",
       " 'btext_ref_spans_df_13.csv',\n",
       " 'btext_ref_spans_df_14.csv',\n",
       " 'btext_ref_spans_df_15.csv',\n",
       " 'btext_ref_spans_df_16.csv',\n",
       " 'btext_ref_spans_df_17.csv',\n",
       " 'btext_ref_spans_df_18.csv',\n",
       " 'btext_ref_spans_df_19.csv',\n",
       " 'btext_ref_spans_df_20.csv',\n",
       " 'btext_ref_spans_df_21.csv',\n",
       " 'btext_ref_spans_df_22.csv',\n",
       " 'btext_ref_spans_df_23.csv',\n",
       " 'btext_ref_spans_df_24.csv']"
      ]
     },
     "execution_count": 4,
     "metadata": {},
     "output_type": "execute_result"
    }
   ],
   "source": [
    "source = 'D:\\\\Datasets\\\\Cord-19\\\\DataFrames\\\\ref_spans'\n",
    "dataframes = os.listdir(source)\n",
    "dataframes = natsorted(dataframes)\n",
    "dataframes"
   ]
  },
  {
   "cell_type": "code",
   "execution_count": 5,
   "id": "5eef0548",
   "metadata": {},
   "outputs": [
    {
     "name": "stderr",
     "output_type": "stream",
     "text": [
      "100%|██████████████████████████████████████████████████████████████████████████████████| 25/25 [00:22<00:00,  1.12it/s]\n"
     ]
    }
   ],
   "source": [
    "for df_name in tqdm(dataframes):\n",
    "    df = pd.read_csv(os.path.join(source, df_name))\n",
    "    df.to_sql('Ref_Spans', conn, if_exists='append', index=False)"
   ]
  },
  {
   "cell_type": "code",
   "execution_count": 6,
   "id": "c73eaa8d",
   "metadata": {},
   "outputs": [],
   "source": [
    "conn.commit()\n",
    "conn.close()"
   ]
  },
  {
   "cell_type": "markdown",
   "id": "b8a079f0",
   "metadata": {},
   "source": [
    "## Bib Entries Tables"
   ]
  },
  {
   "cell_type": "code",
   "execution_count": 3,
   "id": "b74cda8a",
   "metadata": {},
   "outputs": [
    {
     "name": "stdout",
     "output_type": "stream",
     "text": [
      "Table Created Successfully!\n"
     ]
    }
   ],
   "source": [
    "create_bibent_table = '''\n",
    "CREATE TABLE IF NOT EXISTS Bib_Entries (\n",
    "    bibent_id TEXT,\n",
    "    paper_id TEXT,\n",
    "    ref_id TEXT,\n",
    "    title TEXT,\n",
    "    authors TEXT,\n",
    "    year TEXT,\n",
    "    venue TEXT,\n",
    "    volume TEXT,\n",
    "    issn TEXT,\n",
    "    pages TEXT,\n",
    "    other_ids TEXT,\n",
    "    PRIMARY KEY (bibent_id, paper_id),\n",
    "    FOREIGN KEY (paper_id) REFERENCES Papers(paper_id)\n",
    ");\n",
    "'''\n",
    "\n",
    "cursor.execute(create_bibent_table)\n",
    "\n",
    "print(\"Table Created Successfully!\")"
   ]
  },
  {
   "cell_type": "code",
   "execution_count": 6,
   "id": "90965185",
   "metadata": {},
   "outputs": [
    {
     "data": {
      "text/plain": [
       "['bib_entries_df_0.csv',\n",
       " 'bib_entries_df_1.csv',\n",
       " 'bib_entries_df_2.csv',\n",
       " 'bib_entries_df_3.csv',\n",
       " 'bib_entries_df_4.csv',\n",
       " 'bib_entries_df_5.csv',\n",
       " 'bib_entries_df_6.csv',\n",
       " 'bib_entries_df_7.csv',\n",
       " 'bib_entries_df_8.csv',\n",
       " 'bib_entries_df_9.csv',\n",
       " 'bib_entries_df_10.csv',\n",
       " 'bib_entries_df_11.csv',\n",
       " 'bib_entries_df_12.csv',\n",
       " 'bib_entries_df_13.csv',\n",
       " 'bib_entries_df_pmc_0.csv',\n",
       " 'bib_entries_df_pmc_1.csv',\n",
       " 'bib_entries_df_pmc_2.csv',\n",
       " 'bib_entries_df_pmc_3.csv',\n",
       " 'bib_entries_df_pmc_4.csv',\n",
       " 'bib_entries_df_pmc_5.csv',\n",
       " 'bib_entries_df_pmc_6.csv',\n",
       " 'bib_entries_df_pmc_7.csv',\n",
       " 'bib_entries_df_pmc_8.csv',\n",
       " 'bib_entries_df_pmc_9.csv',\n",
       " 'bib_entries_df_pmc_10.csv']"
      ]
     },
     "execution_count": 6,
     "metadata": {},
     "output_type": "execute_result"
    }
   ],
   "source": [
    "source = 'D:\\\\Datasets\\\\Cord-19\\\\DataFrames\\\\bib_entries'\n",
    "dataframes = os.listdir(source)\n",
    "dataframes = natsorted(dataframes)\n",
    "dataframes"
   ]
  },
  {
   "cell_type": "code",
   "execution_count": 7,
   "id": "d9ae9621",
   "metadata": {},
   "outputs": [
    {
     "name": "stderr",
     "output_type": "stream",
     "text": [
      "100%|██████████████████████████████████████████████████████████████████████████████████| 25/25 [20:12<00:00, 48.50s/it]\n"
     ]
    }
   ],
   "source": [
    "for df_name in tqdm(dataframes):\n",
    "    df = pd.read_csv(os.path.join(source, df_name))\n",
    "    df.to_sql('Bib_Entries', conn, if_exists='append', index=False)"
   ]
  },
  {
   "cell_type": "code",
   "execution_count": 8,
   "id": "d6f80401",
   "metadata": {},
   "outputs": [],
   "source": [
    "conn.commit()\n",
    "conn.close()"
   ]
  },
  {
   "cell_type": "markdown",
   "id": "54211277",
   "metadata": {},
   "source": [
    "## Ref_Entries Table"
   ]
  },
  {
   "cell_type": "code",
   "execution_count": 3,
   "id": "e5175ee8",
   "metadata": {},
   "outputs": [
    {
     "name": "stdout",
     "output_type": "stream",
     "text": [
      "Table Created Successfully!\n"
     ]
    }
   ],
   "source": [
    "create_refent_table = '''\n",
    "CREATE TABLE IF NOT EXISTS Ref_Entries (\n",
    "    refent_id TEXT,\n",
    "    paper_id TEXT,\n",
    "    text TEXT,\n",
    "    type TEXT,\n",
    "    latex TEXT,\n",
    "    html TEXT,\n",
    "    PRIMARY KEY (refent_id, paper_id),\n",
    "    FOREIGN KEY (paper_id) REFERENCES Papers(paper_id)\n",
    ");\n",
    "'''\n",
    "\n",
    "cursor.execute(create_refent_table)\n",
    "\n",
    "print(\"Table Created Successfully!\")"
   ]
  },
  {
   "cell_type": "code",
   "execution_count": 4,
   "id": "957d6fc8",
   "metadata": {},
   "outputs": [
    {
     "data": {
      "text/plain": [
       "['ref_entries_df_0.csv',\n",
       " 'ref_entries_df_1.csv',\n",
       " 'ref_entries_df_2.csv',\n",
       " 'ref_entries_df_3.csv',\n",
       " 'ref_entries_df_4.csv',\n",
       " 'ref_entries_df_5.csv',\n",
       " 'ref_entries_df_6.csv',\n",
       " 'ref_entries_df_7.csv',\n",
       " 'ref_entries_df_8.csv',\n",
       " 'ref_entries_df_9.csv',\n",
       " 'ref_entries_df_10.csv',\n",
       " 'ref_entries_df_11.csv',\n",
       " 'ref_entries_df_12.csv',\n",
       " 'ref_entries_df_13.csv',\n",
       " 'ref_entries_df_pmc_0.csv',\n",
       " 'ref_entries_df_pmc_1.csv',\n",
       " 'ref_entries_df_pmc_2.csv',\n",
       " 'ref_entries_df_pmc_3.csv',\n",
       " 'ref_entries_df_pmc_4.csv',\n",
       " 'ref_entries_df_pmc_5.csv',\n",
       " 'ref_entries_df_pmc_6.csv',\n",
       " 'ref_entries_df_pmc_7.csv',\n",
       " 'ref_entries_df_pmc_8.csv',\n",
       " 'ref_entries_df_pmc_9.csv',\n",
       " 'ref_entries_df_pmc_10.csv']"
      ]
     },
     "execution_count": 4,
     "metadata": {},
     "output_type": "execute_result"
    }
   ],
   "source": [
    "source = 'D:\\\\Datasets\\\\Cord-19\\\\DataFrames\\\\ref_entries'\n",
    "dataframes = os.listdir(source)\n",
    "dataframes = natsorted(dataframes)\n",
    "dataframes"
   ]
  },
  {
   "cell_type": "code",
   "execution_count": 5,
   "id": "fabe5bb5",
   "metadata": {},
   "outputs": [
    {
     "name": "stderr",
     "output_type": "stream",
     "text": [
      "100%|██████████████████████████████████████████████████████████████████████████████████| 25/25 [03:05<00:00,  7.41s/it]\n"
     ]
    }
   ],
   "source": [
    "for df_name in tqdm(dataframes):\n",
    "    df = pd.read_csv(os.path.join(source, df_name))\n",
    "    df.to_sql('Ref_Entries', conn, if_exists='append', index=False)"
   ]
  },
  {
   "cell_type": "code",
   "execution_count": 6,
   "id": "9199efd0",
   "metadata": {},
   "outputs": [],
   "source": [
    "conn.commit()\n",
    "conn.close()"
   ]
  },
  {
   "cell_type": "markdown",
   "id": "df3857ab",
   "metadata": {},
   "source": [
    "## Back Matter Table"
   ]
  },
  {
   "cell_type": "code",
   "execution_count": 3,
   "id": "05b1126e",
   "metadata": {},
   "outputs": [
    {
     "name": "stdout",
     "output_type": "stream",
     "text": [
      "Table Created Successfully!\n"
     ]
    }
   ],
   "source": [
    "create_bm_table = '''\n",
    "CREATE TABLE IF NOT EXISTS Back_Matter (\n",
    "    paper_id TEXT,\n",
    "    text TEXT,\n",
    "    cite_spans TEXT,\n",
    "    ref_spans TEXT,\n",
    "    section TEXT,\n",
    "    FOREIGN KEY (paper_id) REFERENCES Papers(paper_id)\n",
    ");\n",
    "'''\n",
    "\n",
    "cursor.execute(create_bm_table)\n",
    "\n",
    "print(\"Table Created Successfully!\")"
   ]
  },
  {
   "cell_type": "code",
   "execution_count": 9,
   "id": "cd9eff84",
   "metadata": {},
   "outputs": [
    {
     "name": "stdout",
     "output_type": "stream",
     "text": [
      "Success!\n"
     ]
    }
   ],
   "source": [
    "source = 'D:\\\\Datasets\\\\Cord-19\\\\DataFrames\\\\back_matter'\n",
    "filename_1 = 'back_matters_df.csv'\n",
    "\n",
    "df1 = pd.read_csv(os.path.join(source, filename_1))\n",
    "\n",
    "df1.to_sql('Back_Matter', conn, if_exists='append', index=False)\n",
    "\n",
    "print('Success!')"
   ]
  }
 ],
 "metadata": {
  "kernelspec": {
   "display_name": "Python 3 (ipykernel)",
   "language": "python",
   "name": "python3"
  },
  "language_info": {
   "codemirror_mode": {
    "name": "ipython",
    "version": 3
   },
   "file_extension": ".py",
   "mimetype": "text/x-python",
   "name": "python",
   "nbconvert_exporter": "python",
   "pygments_lexer": "ipython3",
   "version": "3.9.7"
  }
 },
 "nbformat": 4,
 "nbformat_minor": 5
}
